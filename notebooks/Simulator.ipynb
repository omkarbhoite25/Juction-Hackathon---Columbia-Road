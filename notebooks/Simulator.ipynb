{
  "nbformat": 4,
  "nbformat_minor": 0,
  "metadata": {
    "colab": {
      "name": "Simulator.ipynb",
      "provenance": []
    },
    "kernelspec": {
      "name": "python3",
      "display_name": "Python 3"
    }
  },
  "cells": [
    {
      "cell_type": "markdown",
      "metadata": {
        "id": "sHUbfXivToh3"
      },
      "source": [
        "#Client E-commerce"
      ]
    },
    {
      "cell_type": "markdown",
      "metadata": {
        "id": "ZCwjjbJfK2he"
      },
      "source": [
        "Here below you can find a script Python to simulate a typical environment. Data is sended in batches to our API for traning the model while our prediction API is triggered anytime someone log-in."
      ]
    },
    {
      "cell_type": "code",
      "metadata": {
        "id": "pVNWaDuETswC",
        "outputId": "e7e5a768-0cd5-41f7-ff8d-73ac11ed7435",
        "colab": {
          "base_uri": "https://localhost:8080/",
          "height": 661
        }
      },
      "source": [
        "import pandas as pd\n",
        "import regex as re\n",
        "import requests\n",
        "import time\n",
        "import json \n",
        "\n",
        "finalDB = pd.read_csv('https://raw.githubusercontent.com/omkarbhoite25/Juction-Hackathon-Columbia-Road/main/datasets/transaction_best_costumers.csv')\n",
        "API_ENDPOINT = \"https://predicto.pythonanywhere.com/update/transaction\"\n",
        "API_ENDPOINT_2 = \"https://predicto.pythonanywhere.com/get/suggestion\"\n",
        "total = 0\n",
        "suc = 0\n",
        "timestamp = sorted(set(finalDB['TIMESTAMP']))\n",
        "#timestamp = filter(lambda x: x < 1163452400, timestamp)\n",
        "\n",
        "for t in range(len(timestamp)-1):\n",
        "  batch = finalDB[finalDB['TIMESTAMP']==timestamp[t]]\n",
        "  batch = batch[['PROD_CODE','PROD_CODE_10','CUST_CODE','CUST_LIFESTAGE','BASKET_ID']]\n",
        "  batch_json = []\n",
        "  batch = batch.groupby(['CUST_CODE','CUST_LIFESTAGE','BASKET_ID']).sum()\n",
        "  order_obj = {}\n",
        "  for index, row in batch.iterrows():\n",
        "    order_obj['id'] = index[2]\n",
        "    order_obj['timestamp'] = timestamp[t] \n",
        "    order_obj['customer'] = index[0] \n",
        "    order_obj['customer_info'] = index[1]\n",
        "    order_obj['items'] = []\n",
        "    prods = re.findall(\"PRD\\d{6}\", row['PROD_CODE'])\n",
        "    categs = re.findall(\"C\\w\\d{5}\", row['PROD_CODE_10'])\n",
        "    for i in range(len(prods)):\n",
        "      basket_obj = {\n",
        "          'prod_id': prods[i],\n",
        "          'cat_id': categs[i]\n",
        "      }\n",
        "      order_obj['items'].append(basket_obj)\n",
        "      print(order_obj)\n",
        "    batch_json.append(order_obj)\n",
        "  r = requests.post(url = API_ENDPOINT, json=batch_json)\n",
        "  if r.status_code != 200:\n",
        "    print(\"FAILED\")\n",
        "  print(time.strftime('UPDATE %Y-%m-%d', time.localtime(timestamp[t])))\n",
        "\n",
        "  ## ASK FOR PREDICTION\n",
        "  batch = finalDB[finalDB['TIMESTAMP']==timestamp[t+1]]\n",
        "  batch = batch[['PROD_CODE_10','CUST_CODE']]\n",
        "  today_customers = set(batch['CUST_CODE'])\n",
        "  for customer in today_customers:\n",
        "    PARAMS = {'customer': customer, 'timestamp': timestamp[t+1]}\n",
        "    r = requests.get(url = API_ENDPOINT_2, params = PARAMS)\n",
        "    resp = json.loads(r.text)\n",
        "    rec_prod = resp['Products']\n",
        "    rec_cat = resp['Categories']\n",
        "    if len(rec_prod) > 0:\n",
        "      total += 1\n",
        "    for p in rec_cat:\n",
        "      future_purch = batch[batch['CUST_CODE']==customer]['PROD_CODE_10'].to_list()\n",
        "      if p in future_purch:\n",
        "        print(\"*************\\nSUCCESS!! \" + customer + \" REALLY WANTED \" + rec_prod[0] + \"\\n****************\")\n",
        "        suc += 1\n",
        "      else:\n",
        "        print(\"PREDICTION FAILED\")\n",
        "    time.sleep(0.3)\n",
        "\n",
        "print()\n",
        "print(\"ACCURACY: \" + str(suc/total))"
      ],
      "execution_count": 2,
      "outputs": [
        {
          "output_type": "stream",
          "text": [
            "{'id': 994100100570459, 'timestamp': 1144627200, 'customer': 'CUST0000696999', 'customer_info': 'YF', 'items': [{'prod_id': 'PRD090361', 'cat_id': 'CL00188'}]}\n",
            "UPDATE 2006-04-10\n",
            "{'id': 994100100488827, 'timestamp': 1144800000, 'customer': 'CUST0000561725', 'customer_info': 'OT', 'items': [{'prod_id': 'PRD090126', 'cat_id': 'CL00030'}]}\n",
            "UPDATE 2006-04-12\n",
            "{'id': 994100100389361, 'timestamp': 1145059200, 'customer': 'CUST0000395612', 'customer_info': 'OA', 'items': [{'prod_id': 'PRD090199', 'cat_id': 'CL00079'}]}\n",
            "{'id': 994100100389361, 'timestamp': 1145059200, 'customer': 'CUST0000395612', 'customer_info': 'OA', 'items': [{'prod_id': 'PRD090199', 'cat_id': 'CL00079'}, {'prod_id': 'PRD090435', 'cat_id': 'CL00079'}]}\n",
            "{'id': 994100100399363, 'timestamp': 1145059200, 'customer': 'CUST0000412519', 'customer_info': 'OA', 'items': [{'prod_id': 'PRD090305', 'cat_id': 'CL00031'}]}\n",
            "{'id': 994100100399363, 'timestamp': 1145059200, 'customer': 'CUST0000412519', 'customer_info': 'OA', 'items': [{'prod_id': 'PRD090305', 'cat_id': 'CL00031'}, {'prod_id': 'PRD090309', 'cat_id': 'CL00218'}]}\n",
            "{'id': 994100100399363, 'timestamp': 1145059200, 'customer': 'CUST0000412519', 'customer_info': 'OA', 'items': [{'prod_id': 'PRD090305', 'cat_id': 'CL00031'}, {'prod_id': 'PRD090309', 'cat_id': 'CL00218'}, {'prod_id': 'PRD090331', 'cat_id': 'CL00002'}]}\n",
            "{'id': 994100100399363, 'timestamp': 1145059200, 'customer': 'CUST0000412519', 'customer_info': 'OA', 'items': [{'prod_id': 'PRD090305', 'cat_id': 'CL00031'}, {'prod_id': 'PRD090309', 'cat_id': 'CL00218'}, {'prod_id': 'PRD090331', 'cat_id': 'CL00002'}, {'prod_id': 'PRD090386', 'cat_id': 'CL00023'}]}\n",
            "UPDATE 2006-04-15\n",
            "{'id': 994100200394401, 'timestamp': 1145232000, 'customer': 'CUST0000395612', 'customer_info': 'OA', 'items': [{'prod_id': 'PRD090199', 'cat_id': 'CL00079'}]}\n",
            "{'id': 994100200394401, 'timestamp': 1145232000, 'customer': 'CUST0000395612', 'customer_info': 'OA', 'items': [{'prod_id': 'PRD090199', 'cat_id': 'CL00079'}, {'prod_id': 'PRD090435', 'cat_id': 'CL00079'}]}\n",
            "UPDATE 2006-04-17\n",
            "{'id': 994100200394399, 'timestamp': 1145404800, 'customer': 'CUST0000395612', 'customer_info': 'OA', 'items': [{'prod_id': 'PRD090233', 'cat_id': 'CL00157'}]}\n",
            "{'id': 994100200394400, 'timestamp': 1145404800, 'customer': 'CUST0000395612', 'customer_info': 'OA', 'items': [{'prod_id': 'PRD090028', 'cat_id': 'CL00079'}]}\n",
            "{'id': 994100200394400, 'timestamp': 1145404800, 'customer': 'CUST0000395612', 'customer_info': 'OA', 'items': [{'prod_id': 'PRD090028', 'cat_id': 'CL00079'}, {'prod_id': 'PRD090352', 'cat_id': 'CL00079'}]}\n",
            "UPDATE 2006-04-19\n",
            "{'id': 994100200495082, 'timestamp': 1145750400, 'customer': 'CUST0000561725', 'customer_info': 'OT', 'items': [{'prod_id': 'PRD090434', 'cat_id': 'CL00207'}]}\n",
            "{'id': 994100200632165, 'timestamp': 1145750400, 'customer': 'CUST0000787265', 'customer_info': 'OA', 'items': [{'prod_id': 'PRD090122', 'cat_id': 'CL00202'}]}\n",
            "UPDATE 2006-04-23\n"
          ],
          "name": "stdout"
        },
        {
          "output_type": "error",
          "ename": "KeyboardInterrupt",
          "evalue": "ignored",
          "traceback": [
            "\u001b[0;31m---------------------------------------------------------------------------\u001b[0m",
            "\u001b[0;31mKeyboardInterrupt\u001b[0m                         Traceback (most recent call last)",
            "\u001b[0;32m<ipython-input-2-9164d04c6d16>\u001b[0m in \u001b[0;36m<module>\u001b[0;34m()\u001b[0m\n\u001b[1;32m     59\u001b[0m       \u001b[0;32melse\u001b[0m\u001b[0;34m:\u001b[0m\u001b[0;34m\u001b[0m\u001b[0;34m\u001b[0m\u001b[0m\n\u001b[1;32m     60\u001b[0m         \u001b[0mprint\u001b[0m\u001b[0;34m(\u001b[0m\u001b[0;34m\"PREDICTION FAILED\"\u001b[0m\u001b[0;34m)\u001b[0m\u001b[0;34m\u001b[0m\u001b[0;34m\u001b[0m\u001b[0m\n\u001b[0;32m---> 61\u001b[0;31m     \u001b[0mtime\u001b[0m\u001b[0;34m.\u001b[0m\u001b[0msleep\u001b[0m\u001b[0;34m(\u001b[0m\u001b[0;36m0.3\u001b[0m\u001b[0;34m)\u001b[0m\u001b[0;34m\u001b[0m\u001b[0;34m\u001b[0m\u001b[0m\n\u001b[0m\u001b[1;32m     62\u001b[0m \u001b[0;34m\u001b[0m\u001b[0m\n\u001b[1;32m     63\u001b[0m \u001b[0mprint\u001b[0m\u001b[0;34m(\u001b[0m\u001b[0;34m)\u001b[0m\u001b[0;34m\u001b[0m\u001b[0;34m\u001b[0m\u001b[0m\n",
            "\u001b[0;31mKeyboardInterrupt\u001b[0m: "
          ]
        }
      ]
    },
    {
      "cell_type": "markdown",
      "metadata": {
        "id": "PxDlemZkLILX"
      },
      "source": [
        "As can be seen by the output, the accuracy is reaching 75% with a very small dataset giving us the belief our bayesian model can be the right path to follow for many improvement. "
      ]
    }
  ]
}